{
  "nbformat": 4,
  "nbformat_minor": 0,
  "metadata": {
    "colab": {
      "provenance": []
    },
    "kernelspec": {
      "name": "python3",
      "display_name": "Python 3"
    },
    "language_info": {
      "name": "python"
    }
  },
  "cells": [
    {
      "cell_type": "code",
      "execution_count": 2,
      "metadata": {
        "colab": {
          "base_uri": "https://localhost:8080/"
        },
        "id": "0UxWmSN7s2RR",
        "outputId": "56b21386-86a9-475e-9ce1-88300033577a"
      },
      "outputs": [
        {
          "output_type": "stream",
          "name": "stdout",
          "text": [
            "Addition :  14\n",
            "Subtract:  10\n",
            "Multiplication: 24\n",
            "Division : 6.0\n",
            "Power :  144\n",
            "Modulus/Remainder: 2\n",
            "Absolute:  3\n"
          ]
        }
      ],
      "source": [
        "#Code 1\n",
        "a=12 \n",
        "b=2\n",
        "C=5\n",
        "d=3\n",
        "print(\"Addition : \",a+b)\n",
        "print(\"Subtract: \",a-b)\n",
        "print(\"Multiplication:\", a*b)\n",
        "print(\"Division :\", a/b)\n",
        "print(\"Power : \", a**b)\n",
        "print(\"Modulus/Remainder:\", a%C)\n",
        "print(\"Absolute: \", abs(d))"
      ]
    },
    {
      "cell_type": "code",
      "source": [
        "#CODE# 02\n",
        "import numpy as np\n",
        "# Mathematical constants\n",
        "print(np.pi)\n",
        "print(np.e)\n",
        "# Trignometric Functions\n",
        "angle = np.pi/4\n",
        "print(np.sin(angle))\n",
        "print(np.cos(angle))\n",
        "print(np.tan(angle))"
      ],
      "metadata": {
        "colab": {
          "base_uri": "https://localhost:8080/"
        },
        "id": "0VcrcTsQtN3T",
        "outputId": "09ae0a05-f479-44c5-84bf-fe59a37b8578"
      },
      "execution_count": 3,
      "outputs": [
        {
          "output_type": "stream",
          "name": "stdout",
          "text": [
            "3.141592653589793\n",
            "2.718281828459045\n",
            "0.7071067811865475\n",
            "0.7071067811865476\n",
            "0.9999999999999999\n"
          ]
        }
      ]
    },
    {
      "cell_type": "code",
      "source": [
        "# CODE# 3 take three values from user\n",
        "\n",
        "name = input(\"Enter Employee Name:\" ) \n",
        "salary = input(\"Enter salary:\")\n",
        "company = input(\"Enter Company name: \")\n",
        "# Display all values onscreen\n",
        "print(\"\\n\")\n",
        "print(\"Printing Employee Details: \")\n",
        "print(\"Name\", \"Salary\", \"Company\")\n",
        "print(name,salary,company)"
      ],
      "metadata": {
        "colab": {
          "base_uri": "https://localhost:8080/"
        },
        "id": "uR4MtH4RtpqF",
        "outputId": "dac6817d-39d6-4a70-88e9-b33c88721398"
      },
      "execution_count": 7,
      "outputs": [
        {
          "output_type": "stream",
          "name": "stdout",
          "text": [
            "Enter Employee Name:abc\n",
            "Enter salary:1200\n",
            "Enter Company name: yx\n",
            "\n",
            "\n",
            "Printing Employee Details: \n",
            "Name Salary Company\n",
            "abc 1200 yx\n"
          ]
        }
      ]
    },
    {
      "cell_type": "code",
      "source": [
        "# CODE# 04 list to store multi line\n",
        "# press enter two times to exit\n",
        "data = []\n",
        "print(\"Tell me about yourself\")\n",
        "while True:\n",
        "  line =input()\n",
        "  if line:\n",
        "    data.append(line)\n",
        "  else:\n",
        "      break\n",
        "finalText =\"\\n\".join(data)\n",
        "print(\"\\n\")\n",
        "print(\"Final text input\")\n",
        "print(finalText)"
      ],
      "metadata": {
        "colab": {
          "base_uri": "https://localhost:8080/"
        },
        "id": "oVtm9O2DuO0B",
        "outputId": "ff0d509f-fd99-43c3-a7a8-a6ba883283ee"
      },
      "execution_count": 9,
      "outputs": [
        {
          "output_type": "stream",
          "name": "stdout",
          "text": [
            "Tell me about yourself\n",
            "ajsfdh\n",
            "jkasdfh\n",
            "\n",
            "\n",
            "\n",
            "Final text input\n",
            "ajsfdh\n",
            "jkasdfh\n"
          ]
        }
      ]
    },
    {
      "cell_type": "code",
      "source": [
        "var1=\"hello World!\"\n",
        "var2=\"Python Programming\"\n",
        "print(\"var1[0]: \",var1[0])\n",
        "print(\"var2[1:5]: \",var2[1:5])"
      ],
      "metadata": {
        "colab": {
          "base_uri": "https://localhost:8080/"
        },
        "id": "ldxAMB0cv4Pu",
        "outputId": "f51ae954-e5bd-42b2-d707-5658b6583224"
      },
      "execution_count": 11,
      "outputs": [
        {
          "output_type": "stream",
          "name": "stdout",
          "text": [
            "var1[0]:  h\n",
            "var2[1:5]:  ytho\n"
          ]
        }
      ]
    },
    {
      "cell_type": "code",
      "source": [],
      "metadata": {
        "id": "8jtpfnlnwp2F"
      },
      "execution_count": null,
      "outputs": []
    },
    {
      "cell_type": "markdown",
      "source": [
        "**Lab Task**"
      ],
      "metadata": {
        "id": "WaCIFJVawwhD"
      }
    },
    {
      "cell_type": "code",
      "source": [
        "#question 1\n",
        "def fib(n):\n",
        "  i=0\n",
        "  a=0\n",
        "  b=1\n",
        "  print(\"0 ,1\")\n",
        "  while(i<n):\n",
        "    res=a+b\n",
        "    print(res,\" ,\")\n",
        "    a=b\n",
        "    b=res\n",
        "    i=i+1\n",
        "fib(10)    "
      ],
      "metadata": {
        "colab": {
          "base_uri": "https://localhost:8080/"
        },
        "id": "aQi8DbDFw1ME",
        "outputId": "b552c7c8-a3ff-4b02-be1a-f5a8392fe6c3"
      },
      "execution_count": 18,
      "outputs": [
        {
          "output_type": "stream",
          "name": "stdout",
          "text": [
            "0 ,1\n",
            "1  ,\n",
            "2  ,\n",
            "3  ,\n",
            "5  ,\n",
            "8  ,\n",
            "13  ,\n",
            "21  ,\n",
            "34  ,\n",
            "55  ,\n",
            "89  ,\n"
          ]
        }
      ]
    },
    {
      "cell_type": "code",
      "source": [
        "ls =[1,2,[3,4],[5,[100,200,[\"hello\"]],23,11],1,7]\n",
        "print(ls[3][1][2])"
      ],
      "metadata": {
        "colab": {
          "base_uri": "https://localhost:8080/"
        },
        "id": "CSasRIYAw3Pj",
        "outputId": "ed7a8ef6-ebf5-43be-d302-e7207f4e8f5e"
      },
      "execution_count": 25,
      "outputs": [
        {
          "output_type": "stream",
          "name": "stdout",
          "text": [
            "['hello']\n"
          ]
        }
      ]
    },
    {
      "cell_type": "code",
      "source": [
        "d={\"k1\":[1,2,3,{\"tricky\":[\"oh\",\"man\",\"inception\",{\"target\":[1,2,3,\"hello\"]}]}]}\n",
        "print(d[\"k1\"][3][\"tricky\"][3][\"target\"][3])"
      ],
      "metadata": {
        "colab": {
          "base_uri": "https://localhost:8080/"
        },
        "id": "xfIrSicjyGQQ",
        "outputId": "b99a55f3-7b02-4569-b2d9-fd156cfa1f40"
      },
      "execution_count": 37,
      "outputs": [
        {
          "output_type": "stream",
          "name": "stdout",
          "text": [
            "hello\n"
          ]
        }
      ]
    },
    {
      "cell_type": "code",
      "source": [
        "def checkfine(speed,is_ann=False):\n",
        "  if(is_ann):\n",
        "    speed=speed-10\n",
        "  if(speed<=70):\n",
        "    print(\"No Fine\")\n",
        "  elif(speed<=80):\n",
        "    print(\"Less Fine\")\n",
        "  else:\n",
        "    print(\"Car Seize\")\n",
        "sp=int(input(\"Enter car speed: \"))\n",
        "bo=bool(input(\"is it your annevesary: \")) \n",
        "checkfine(sp,bo)         "
      ],
      "metadata": {
        "colab": {
          "base_uri": "https://localhost:8080/"
        },
        "id": "q859d_jLzK_i",
        "outputId": "403161fc-fe24-4273-c4b5-9b0535e6c24e"
      },
      "execution_count": 42,
      "outputs": [
        {
          "output_type": "stream",
          "name": "stdout",
          "text": [
            "Enter car speed: 120\n",
            "is it your annevesary: True\n",
            "Car Seize\n"
          ]
        }
      ]
    },
    {
      "cell_type": "code",
      "source": [
        "arr=[1,2,3,3,4,5,6]\n",
        "a1=set(arr)\n",
        "if(len(arr)==len(a1)):\n",
        "  print(\"no duplicate\")\n",
        "else:\n",
        "  print(\"duplicate found \")\n",
        "  print(a1)  "
      ],
      "metadata": {
        "colab": {
          "base_uri": "https://localhost:8080/"
        },
        "id": "tntSaniq1vae",
        "outputId": "d06fe8ec-0350-4c00-dc42-ffd5aafc2fe5"
      },
      "execution_count": 44,
      "outputs": [
        {
          "output_type": "stream",
          "name": "stdout",
          "text": [
            "duplicate found \n",
            "{1, 2, 3, 4, 5, 6}\n"
          ]
        }
      ]
    },
    {
      "cell_type": "code",
      "source": [
        "import pandas as pd\n",
        "d=pd.read_csv(\"/content/sample_data/california_housing_train.csv\")\n",
        "type(d)\n",
        "d=list(d)\n",
        "type(d)"
      ],
      "metadata": {
        "colab": {
          "base_uri": "https://localhost:8080/"
        },
        "id": "9AAy8tvd4DEU",
        "outputId": "1477179d-7029-451a-c151-0fea2913daa1"
      },
      "execution_count": 50,
      "outputs": [
        {
          "output_type": "execute_result",
          "data": {
            "text/plain": [
              "list"
            ]
          },
          "metadata": {},
          "execution_count": 50
        }
      ]
    },
    {
      "cell_type": "code",
      "source": [
        "letter=input(\"Enter anything\")\n",
        "dig=let=0\n",
        "for c in letter:\n",
        "  if(c.isdigit()):\n",
        "    dig=dig+1\n",
        "  elif(c.isalpha()):\n",
        "    let=let+1\n",
        "print(\"letter: \",let,\"digit: \",dig)   "
      ],
      "metadata": {
        "colab": {
          "base_uri": "https://localhost:8080/"
        },
        "id": "Usd6rose9n8K",
        "outputId": "a7cfda5c-ccaa-4ef7-c750-929fb5f8d0ec"
      },
      "execution_count": 51,
      "outputs": [
        {
          "output_type": "stream",
          "name": "stdout",
          "text": [
            "Enter anythingabc123\n",
            "letter:  3 digit:  3\n"
          ]
        }
      ]
    },
    {
      "cell_type": "code",
      "source": [],
      "metadata": {
        "id": "E-uA1j3xAD9H"
      },
      "execution_count": null,
      "outputs": []
    }
  ]
}