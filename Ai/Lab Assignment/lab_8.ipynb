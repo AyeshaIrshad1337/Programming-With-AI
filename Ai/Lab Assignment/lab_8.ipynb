{
  "nbformat": 4,
  "nbformat_minor": 0,
  "metadata": {
    "colab": {
      "provenance": []
    },
    "kernelspec": {
      "name": "python3",
      "display_name": "Python 3"
    },
    "language_info": {
      "name": "python"
    }
  },
  "cells": [
    {
      "cell_type": "code",
      "execution_count": null,
      "metadata": {
        "colab": {
          "base_uri": "https://localhost:8080/"
        },
        "id": "MUrLMzj9b0zL",
        "outputId": "c0cbb742-1b1e-456d-d6ea-e4a84f31d918"
      },
      "outputs": [
        {
          "output_type": "stream",
          "name": "stdout",
          "text": [
            "0.07692307692307693\n",
            "0.08\n",
            "8.0%\n"
          ]
        }
      ],
      "source": [
        "import numpy as np # linear algebra\n",
        "import pandas as pd # data processing, CSV file I/O (e.g. pd.read_csv)\n",
        "import matplotlib.pyplot as plt\n",
        "# Sample Space\n",
        "cards = 52\n",
        "# Outcomes\n",
        "aces = 4\n",
        "# Divide possible outcomes by the sample set\n",
        "ace_probability = aces / cards\n",
        "print(ace_probability)\n",
        "# Print probability rounded to two decimal places\n",
        "print(round(ace_probability, 2))\n",
        "# Ace Probability Percent Code\n",
        "ace_probability_percent = ace_probability * 100\n",
        "# Print probability percent rounded to one decimal place\n",
        "print(str(round(ace_probability_percent, 0)) + '%')"
      ]
    },
    {
      "cell_type": "code",
      "source": [
        "\"\"\"the probability of drawing a card that is a Heart, a face card (such\n",
        "as Jacks, Queens, or Kings), or a combination of both, such as a Queen o\n",
        "f Hearts.\"\"\"\n",
        "import numpy as np # linear algebra\n",
        "import pandas as pd # data processing, CSV file I/O (e.g. pd.read_csv)\n",
        "import matplotlib.pyplot as plt\n",
        "# Create function that returns probability percent rounded to one decimal place\n",
        "def event_probability(event_outcomes, sample_space):\n",
        "  probability = (event_outcomes / sample_space) * 100\n",
        "  return round(probability, 1)\n",
        "# Sample Space\n",
        "cards = 52\n",
        "# Determine the probability of drawing a heart\n",
        "hearts = 13\n",
        "heart_probability = event_probability(hearts, cards)\n",
        "# Determine the probability of drawing a face card\n",
        "face_cards = 12\n",
        "face_card_probability = event_probability(face_cards, cards)\n",
        "# Determine the probability of drawing the queen of hearts\n",
        "queen_of_hearts = 1\n",
        "queen_of_hearts_probability = event_probability(queen_of_hearts, cards)\n",
        "# Print each probability\n",
        "print(\"Probability of Heart :- \",str(heart_probability) + '%')\n",
        "print(\"Probability of Face Card :- \",str(face_card_probability) + '%')\n",
        "print(\"Probability of Queen of Hearts :- \",str(queen_of_hearts_probability) + '%')"
      ],
      "metadata": {
        "colab": {
          "base_uri": "https://localhost:8080/"
        },
        "id": "vaDeko1qcU5N",
        "outputId": "67eb572c-7107-4c9d-933b-e3ba91846132"
      },
      "execution_count": null,
      "outputs": [
        {
          "output_type": "stream",
          "name": "stdout",
          "text": [
            "Probability of Heart :-  25.0%\n",
            "Probability of Face Card :-  23.1%\n",
            "Probability of Queen of Hearts :-  1.9%\n"
          ]
        }
      ]
    },
    {
      "cell_type": "code",
      "source": [],
      "metadata": {
        "id": "flv5Ezkzcx-s"
      },
      "execution_count": null,
      "outputs": []
    },
    {
      "cell_type": "markdown",
      "source": [
        "# Question no 1\n"
      ],
      "metadata": {
        "id": "CwXL1ILLf5US"
      }
    },
    {
      "cell_type": "code",
      "source": [
        "import random\n",
        "s=10000\n",
        "count=0\n",
        "for i in range(s):\n",
        "    die1=random.randint(1,6)\n",
        "    die2=random.randint(1,6)\n",
        "    score=die1+die2\n",
        "    if score % 2 == 0 or score > 7:\n",
        "      count+=1\n",
        "total=count/s\n",
        "print(np.round(total*100,2))"
      ],
      "metadata": {
        "colab": {
          "base_uri": "https://localhost:8080/"
        },
        "id": "ggN2NQ_pgHka",
        "outputId": "f5a30de5-1ebf-4ae6-ca1d-e5b39d5a402a"
      },
      "execution_count": null,
      "outputs": [
        {
          "output_type": "stream",
          "name": "stdout",
          "text": [
            "66.79\n"
          ]
        }
      ]
    },
    {
      "cell_type": "code",
      "source": [
        "d ={}\n",
        "for i in range(60):\n",
        "  if(i<10):\n",
        "    d[i]=\"white\"\n",
        "  elif(i>9 and i<20):\n",
        "    d[i]=\"red\"\n",
        "  else:\n",
        "    d[i]=\"green\"\n",
        "n=1000000\n",
        "part_a=0\n",
        "part_b=0\n",
        "for i in range(n):\n",
        "  lst=[]\n",
        "  for i in range(5):\n",
        "    lst.append(d[random.randint(0,59)])\n",
        "  lst=np.array(lst)\n",
        "  white=sum(lst==\"white\")\n",
        "  red=sum(lst==\"red\")\n",
        "  green=sum(lst==\"green\")\n",
        "  if(white == 3 and red == 2):\n",
        "    part_a+=1\n",
        "  if(red == 5 or white == 5 or green == 5):\n",
        "    part_b+=1       \n",
        "print(part_a/n*100,\"%\")\n",
        "print(part_b/n*100,\"%\")     "
      ],
      "metadata": {
        "colab": {
          "base_uri": "https://localhost:8080/"
        },
        "id": "8_nYkg1LiLka",
        "outputId": "ca516ccb-6814-4cdf-c523-49f69828e069"
      },
      "execution_count": null,
      "outputs": [
        {
          "output_type": "stream",
          "name": "stdout",
          "text": [
            "0.1292 %\n",
            "13.248999999999999 %\n"
          ]
        }
      ]
    },
    {
      "cell_type": "markdown",
      "source": [
        "Task 3"
      ],
      "metadata": {
        "id": "l2n0lsKnuXri"
      }
    },
    {
      "cell_type": "code",
      "source": [
        "d= {}\n",
        "for i in range(8):\n",
        "  if(i<4):\n",
        "    d[i]=\"B\"\n",
        "  else:\n",
        "    d[i]=\"G\"\n",
        "n=1000\n",
        "a_part=0\n",
        "for i in range(n):\n",
        "  lst=[]\n",
        "  for i in range(4):\n",
        "    lst.append(d[random.randint(0,7)]) \n",
        "  lst=np.array(lst)\n",
        "  Boy=sum(lst==\"B\")\n",
        "  if(Boy==2):\n",
        "    a_part+=1\n",
        "print(np.round(a_part/n*100,2),\"%\") "
      ],
      "metadata": {
        "colab": {
          "base_uri": "https://localhost:8080/"
        },
        "id": "eD11VFpsrPhU",
        "outputId": "8ba6aae5-f3ec-40e5-ae22-cbcb622f60b7"
      },
      "execution_count": null,
      "outputs": [
        {
          "output_type": "stream",
          "name": "stdout",
          "text": [
            "37.3 %\n"
          ]
        }
      ]
    },
    {
      "cell_type": "markdown",
      "source": [
        "# Task No 4"
      ],
      "metadata": {
        "id": "5nB80fpsufaK"
      }
    },
    {
      "cell_type": "code",
      "source": [
        "S={\"HH\",\"HT\",\"TH\",\"TT\"}\n",
        "print(3/len(S))\n"
      ],
      "metadata": {
        "id": "9SUi72fUuRmE",
        "colab": {
          "base_uri": "https://localhost:8080/"
        },
        "outputId": "bd3b7c2b-cc29-4e5b-865a-5ffe6a44c5bd"
      },
      "execution_count": null,
      "outputs": [
        {
          "output_type": "stream",
          "name": "stdout",
          "text": [
            "0.75\n"
          ]
        }
      ]
    },
    {
      "cell_type": "markdown",
      "source": [
        "# Task no 5\n",
        "P(1) = x (some value between 0 and 1)  \n",
        "P(2) = 2x  \n",
        "P(3) = x  \n",
        "P(4) = 2x  \n",
        "x+2x+x+2x=1 (it should be equal to 1)  \n",
        "6x=1\n",
        "x=1/6\n",
        "now put the value of x in P(1,2,3) as in question its mention that less than 4"
      ],
      "metadata": {
        "id": "q8qNIEEAShBU"
      }
    },
    {
      "cell_type": "code",
      "source": [
        "p=[]\n",
        "x=1/6\n",
        "p.append(x)\n",
        "p.append(2*x)\n",
        "p.append(x)\n",
        "sum=0\n",
        "for i in range(len(p)):\n",
        "  sum+=p[i]\n",
        "print(\"P(E) =\",sum)  "
      ],
      "metadata": {
        "colab": {
          "base_uri": "https://localhost:8080/"
        },
        "id": "6PDl0RPkRekn",
        "outputId": "2ed0dd3c-9310-4d95-f6e0-4e3366e65a7d"
      },
      "execution_count": null,
      "outputs": [
        {
          "output_type": "stream",
          "name": "stdout",
          "text": [
            "P(E) = 0.6666666666666666\n"
          ]
        }
      ]
    },
    {
      "cell_type": "code",
      "source": [
        "sample_space={1,2,3,4,5,6}\n",
        "A={2,4,6}\n",
        "B={3,6}\n",
        "\n",
        "P_union_AB=len(A.union(B))/len(sample_space)\n",
        "P_intersection_AB=len(A.intersection(B))/len(sample_space)\n",
        "\n",
        "print(\"P(A U B = \",P_union_AB)\n",
        "print(\"P(A n B = \",P_intersection_AB)"
      ],
      "metadata": {
        "colab": {
          "base_uri": "https://localhost:8080/"
        },
        "id": "VazkBgxKUKsW",
        "outputId": "7143a1e1-03bb-493c-d2b9-8784fdcc74a7"
      },
      "execution_count": null,
      "outputs": [
        {
          "output_type": "stream",
          "name": "stdout",
          "text": [
            "P(A U B =  0.6666666666666666\n",
            "P(A n B =  0.16666666666666666\n"
          ]
        }
      ]
    },
    {
      "cell_type": "code",
      "source": [
        "# P(P1), P(P2), and P(P3) are the probabilities \n",
        "P_P1 = 0.3\n",
        "P_P2 = 0.2\n",
        "P_P3 = 0.5\n",
        "\n",
        "# defective product given plan 1, 2, and 3 respectively\n",
        "P_D_given_P1 = 0.01\n",
        "P_D_given_P2 = 0.03\n",
        "P_D_given_P3 = 0.02\n",
        "\n",
        "# Using Bayes' theorem \n",
        "P_D = P_D_given_P1 * P_P1 + P_D_given_P2 * P_P2 + P_D_given_P3 * P_P3\n",
        "P_P1_given_D = (P_D_given_P1 * P_P1) / P_D\n",
        "P_P2_given_D = (P_D_given_P2 * P_P2) / P_D\n",
        "P_P3_given_D = (P_D_given_P3 * P_P3) / P_D\n",
        "\n",
        "print('P(P1|D) = ',P_P1_given_D)\n",
        "print('P(P2|D) = ',P_P2_given_D)\n",
        "print('P(P3|D) = ',P_P3_given_D)"
      ],
      "metadata": {
        "colab": {
          "base_uri": "https://localhost:8080/"
        },
        "id": "AxBhYrBPXpUi",
        "outputId": "c1657086-f330-4501-be07-818bda9f136a"
      },
      "execution_count": null,
      "outputs": [
        {
          "output_type": "stream",
          "name": "stdout",
          "text": [
            "P(P1|D) = 0.15789473684210525\n",
            "P(P2|D) = 0.3157894736842105\n",
            "P(P3|D) = 0.5263157894736842\n"
          ]
        }
      ]
    },
    {
      "cell_type": "code",
      "source": [],
      "metadata": {
        "id": "czOSfYAMZCR9"
      },
      "execution_count": null,
      "outputs": []
    }
  ]
}