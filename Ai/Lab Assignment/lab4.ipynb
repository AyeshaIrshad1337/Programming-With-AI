{
  "nbformat": 4,
  "nbformat_minor": 0,
  "metadata": {
    "colab": {
      "provenance": []
    },
    "kernelspec": {
      "name": "python3",
      "display_name": "Python 3"
    },
    "language_info": {
      "name": "python"
    }
  },
  "cells": [
    {
      "cell_type": "markdown",
      "source": [
        "#Task 01:\n",
        "Given a set of cities and distances between every pair of cities, the problem is to find the\n",
        "shortest possible route that visits every city exactly once and returns to the starting point. Like\n",
        "any problem, which can be optimized, there must be a cost function. In the context of TSP,\n",
        "total distance traveled must be reduced as much as possible.\n",
        "Consider the below matrix representing the distances (Cost) between the cities. Find the shortest  \n",
        "possible route that visits every city exactly once and returns to the starting point."
      ],
      "metadata": {
        "id": "v7wahRQJ2a_B"
      }
    },
    {
      "cell_type": "code",
      "source": [
        "#TAsk01\n",
        "import itertools\n",
        "\n",
        "graph = [[0, 10, 15, 20], [10, 0, 35, 25],\n",
        "         [15, 35, 0, 30], [20, 25, 30, 0]]\n",
        "\n",
        "n = len(graph)\n",
        "cities = range(n)\n",
        "\n",
        "# Calculate the distances of all possible paths\n",
        "distances = {}\n",
        "for path in itertools.permutations(cities):\n",
        "    distance = sum(graph[path[i]][path[i+1]] for i in range(n-1)) + graph[path[-1]][path[0]]\n",
        "    distances[path] = distance\n",
        "\n",
        "# Select the path with the shortest distance\n",
        "shortest_path = min(distances, key=distances.get)\n",
        "print('Shortest path:', shortest_path)\n",
        "print('Distance:', distances[shortest_path])\n"
      ],
      "metadata": {
        "id": "sO2Do7H-d-hb",
        "colab": {
          "base_uri": "https://localhost:8080/"
        },
        "outputId": "b8b9b362-be82-4a46-f54f-79f29d8d8534"
      },
      "execution_count": null,
      "outputs": [
        {
          "output_type": "stream",
          "name": "stdout",
          "text": [
            "Shortest path: (0, 1, 3, 2)\n",
            "Distance: 80\n"
          ]
        }
      ]
    },
    {
      "cell_type": "markdown",
      "source": [
        "#Task 02\n",
        "Implement DFS on graph and tree."
      ],
      "metadata": {
        "id": "ClgeWSys2zCa"
      }
    },
    {
      "cell_type": "code",
      "source": [
        "# Graph class\n",
        "from collections import defaultdict\n",
        "\n",
        "class Graph:\n",
        "    def __init__(self, vertices):\n",
        "        self.V = vertices\n",
        "        self.graph = defaultdict(list)\n",
        "\n",
        "    def add_edge(self, u, v):\n",
        "        self.graph[u].append(v)\n",
        "\n",
        "    def dfs(self, v, visited):\n",
        "        visited.add(v)\n",
        "        print(v, end=' ')\n",
        "        for neighbour in self.graph[v]:\n",
        "            if neighbour not in visited:\n",
        "                self.dfs(neighbour, visited)\n",
        "\n",
        "# Driver code\n",
        "g = Graph(4)\n",
        "g.add_edge(0, 1)\n",
        "g.add_edge(0, 2)\n",
        "g.add_edge(1, 2)\n",
        "g.add_edge(2, 0)\n",
        "g.add_edge(2, 3)\n",
        "g.add_edge(3, 3)\n",
        "\n",
        "print(\"DFS traversal of the graph starting from vertex 2:\")\n",
        "visited = set()\n",
        "g.dfs(2, visited)\n"
      ],
      "metadata": {
        "colab": {
          "base_uri": "https://localhost:8080/"
        },
        "id": "GFg37GT5-Gn3",
        "outputId": "956f0452-19e8-4ef7-b625-8c36b2c3acfa"
      },
      "execution_count": null,
      "outputs": [
        {
          "output_type": "stream",
          "name": "stdout",
          "text": [
            "DFS traversal of the graph starting from vertex 2:\n",
            "2 0 1 3 "
          ]
        }
      ]
    },
    {
      "cell_type": "code",
      "source": [
        "# Tree node class\n",
        "class Node:\n",
        "    def __init__(self, val):\n",
        "        self.val = val\n",
        "        self.left = None\n",
        "        self.right = None\n",
        "\n",
        "    def dfs(self, visited):\n",
        "        visited.add(self.val)\n",
        "        print(self.val, end=' ')\n",
        "        if self.left and self.left.val not in visited:\n",
        "            self.left.dfs(visited)\n",
        "        if self.right and self.right.val not in visited:\n",
        "            self.right.dfs(visited)\n",
        "\n",
        "# Driver code\n",
        "root = Node(1)\n",
        "root.left = Node(2)\n",
        "root.right = Node(3)\n",
        "root.left.left = Node(4)\n",
        "root.left.right = Node(5)\n",
        "root.right.left = Node(6)\n",
        "root.right.right = Node(7)\n",
        "\n",
        "print(\"DFS traversal of the tree starting from root node:\")\n",
        "visited = set()\n",
        "root.dfs(visited)\n"
      ],
      "metadata": {
        "colab": {
          "base_uri": "https://localhost:8080/"
        },
        "id": "7G1ZM3L6ySp8",
        "outputId": "6ffb6230-3678-45bb-9d51-5b66fbaf095f"
      },
      "execution_count": null,
      "outputs": [
        {
          "output_type": "stream",
          "name": "stdout",
          "text": [
            "DFS traversal of the tree starting from root node:\n",
            "1 2 4 5 3 6 7 "
          ]
        }
      ]
    },
    {
      "cell_type": "markdown",
      "source": [
        "#Task03\n",
        "Write a program to solve the 8-puzzle problem using the DFS and BFS search algorithm"
      ],
      "metadata": {
        "id": "kPIy6l2x24Mi"
      }
    },
    {
      "cell_type": "code",
      "source": [
        "# DFS implementation for 8-puzzle problem\n",
        "\n",
        "def dfs(initial, goal):\n",
        "    stack = [(initial, [])]\n",
        "    visited = set()\n",
        "\n",
        "    while stack:\n",
        "        (state, path) = stack.pop()\n",
        "\n",
        "        if state == goal:\n",
        "            return path\n",
        "\n",
        "        visited.add(tuple(state))\n",
        "\n",
        "        for (child, move) in get_children(state):\n",
        "            if tuple(child) not in visited:\n",
        "                stack.append((child, path + [move]))\n",
        "\n",
        "    return None\n",
        "\n",
        "\n",
        "def get_children(state):\n",
        "    children = []\n",
        "    i = state.index(0)\n",
        "\n",
        "    if i not in [0, 1, 2]:\n",
        "        new_state = state[:]\n",
        "        new_state[i], new_state[i - 3] = new_state[i - 3], new_state[i]\n",
        "        children.append((new_state, 'U'))\n",
        "\n",
        "    if i not in [6, 7, 8]:\n",
        "        new_state = state[:]\n",
        "        new_state[i], new_state[i + 3] = new_state[i + 3], new_state[i]\n",
        "        children.append((new_state, 'D'))\n",
        "\n",
        "    if i not in [0, 3, 6]:\n",
        "        new_state = state[:]\n",
        "        new_state[i], new_state[i - 1] = new_state[i - 1], new_state[i]\n",
        "        children.append((new_state, 'L'))\n",
        "\n",
        "    if i not in [2, 5, 8]:\n",
        "        new_state = state[:]\n",
        "        new_state[i], new_state[i + 1] = new_state[i + 1], new_state[i]\n",
        "        children.append((new_state, 'R'))\n",
        "\n",
        "    return children\n",
        "\n",
        "# Driver code\n",
        "initial_state = [1, 2, 3, 4, 0, 6, 7, 5, 8]\n",
        "goal_state = [1, 2, 3, 4, 5, 6, 7, 8, 0]\n",
        "path = dfs(initial_state, goal_state)\n",
        "\n",
        "if path is not None:\n",
        "    print(\"DFS solution path: \", path)\n",
        "else:\n",
        "    print(\"No solution found.\")\n"
      ],
      "metadata": {
        "colab": {
          "base_uri": "https://localhost:8080/"
        },
        "id": "_eeIyAyzyl7R",
        "outputId": "f4a98855-a6e4-4176-97c7-7604e2a766de"
      },
      "execution_count": null,
      "outputs": [
        {
          "output_type": "stream",
          "name": "stdout",
          "text": [
            "DFS solution path:  ['R', 'D', 'L', 'L', 'U', 'R', 'R', 'D', 'L', 'L', 'U', 'R', 'R', 'D', 'L', 'L', 'U', 'R', 'R', 'D', 'L', 'L', 'U', 'R', 'R', 'D', 'L', 'L', 'U', 'U', 'R', 'R', 'D', 'L', 'L', 'D', 'R', 'R', 'U', 'L', 'L', 'D', 'R', 'R', 'U', 'L', 'L', 'D', 'R', 'R', 'U', 'L', 'L', 'D', 'R', 'R', 'U', 'L', 'L', 'D', 'R', 'U', 'R', 'D', 'L', 'L', 'U', 'R', 'R', 'D', 'L', 'L', 'U', 'R', 'R', 'D', 'L', 'L', 'U', 'R', 'R', 'D', 'L', 'L', 'U', 'R', 'R', 'D', 'L', 'L', 'U', 'U', 'R', 'R', 'D', 'L', 'L', 'D', 'R', 'R', 'U', 'L', 'L', 'D', 'R', 'R', 'U', 'L', 'L', 'D', 'R', 'R', 'U', 'L', 'L', 'D', 'R', 'R', 'U', 'L', 'L', 'D', 'R', 'U', 'R', 'D', 'L', 'L', 'U', 'R', 'R', 'D', 'L', 'L', 'U', 'R', 'R', 'D', 'L', 'L', 'U', 'R', 'R', 'D', 'L', 'L', 'U', 'R', 'R', 'D', 'L', 'L', 'U', 'U', 'R', 'R', 'D', 'L', 'L', 'D', 'R', 'R', 'U', 'L', 'L', 'D', 'R', 'R', 'U', 'L', 'L', 'D', 'R', 'R', 'U', 'L', 'L', 'D', 'R', 'R', 'U', 'L', 'L', 'D', 'R', 'U', 'R', 'D', 'L', 'L', 'U', 'R', 'R', 'D', 'L', 'L', 'U', 'R', 'R', 'D', 'L', 'L', 'U', 'R', 'R', 'D', 'L', 'L', 'U', 'R', 'R', 'D', 'L', 'L', 'U', 'U', 'R', 'R', 'D', 'L', 'L', 'D', 'R', 'R', 'U', 'L', 'L', 'D', 'R', 'R', 'U', 'L', 'L', 'D', 'R', 'R', 'U', 'L', 'L', 'D', 'R', 'R', 'U', 'L', 'L', 'D', 'R', 'U', 'R', 'D', 'L', 'L', 'U', 'R', 'R', 'D', 'L', 'L', 'U', 'R', 'R', 'D', 'L', 'L', 'U', 'R', 'R', 'D', 'L', 'L', 'U', 'R', 'R', 'D', 'L', 'L', 'U', 'U', 'R', 'R', 'D', 'L', 'L', 'D', 'R', 'R', 'U', 'L', 'L', 'D', 'R', 'R', 'U', 'L', 'L', 'D', 'R', 'R', 'U', 'L', 'L', 'D', 'R', 'R', 'U', 'L', 'L', 'D', 'R', 'U', 'R', 'D', 'L', 'L', 'U', 'R', 'R', 'D', 'L', 'L', 'U', 'R', 'R', 'D', 'L', 'L', 'U', 'R', 'R', 'D', 'L', 'L', 'U', 'R', 'R', 'D', 'L', 'L', 'U', 'U', 'R', 'R', 'D', 'L', 'L', 'D', 'R', 'R', 'U', 'L', 'L', 'D', 'R', 'R', 'U', 'L', 'L', 'D', 'R', 'R', 'U', 'L', 'L', 'D', 'R', 'R', 'U', 'L', 'L', 'D', 'R', 'U', 'R', 'D', 'L', 'L', 'U', 'R', 'R', 'D', 'L', 'L', 'U', 'R', 'R', 'D', 'L', 'L', 'U', 'R', 'R', 'D', 'L', 'L', 'U', 'R', 'R', 'D', 'L', 'L', 'U', 'U', 'R', 'R', 'D', 'L', 'L', 'D', 'R', 'R', 'U', 'L', 'L', 'D', 'R', 'R', 'U', 'L', 'L', 'D', 'R', 'R', 'U', 'L', 'L', 'D', 'R', 'R', 'U', 'L', 'L', 'D', 'R', 'R']\n"
          ]
        }
      ]
    },
    {
      "cell_type": "code",
      "source": [
        "# BFS implementation for 8-puzzle problem\n",
        "\n",
        "from collections import deque\n",
        "\n",
        "def bfs(initial, goal):\n",
        "    queue = deque([(initial, [])])\n",
        "    visited = set()\n",
        "\n",
        "    while queue:\n",
        "        (state, path) = queue.popleft()\n",
        "\n",
        "        if state == goal:\n",
        "            return path\n",
        "\n",
        "        visited.add(tuple(state))\n",
        "\n",
        "        for (child, move) in get_children(state):\n",
        "            if tuple(child) not in visited:\n",
        "                queue.append((child, path + [move]))\n",
        "\n",
        "    return None\n",
        "\n",
        "\n",
        "def get_children(state):\n",
        "    children = []\n",
        "    i = state.index(0)\n",
        "\n",
        "    if i not in [0, 1, 2]:\n",
        "        new_state = state[:]\n",
        "        new_state[i], new_state[i - 3] = new_state[i - 3], new_state[i]\n",
        "        children.append((new_state, 'U'))\n",
        "\n",
        "    if i not in [6, 7, 8]:\n",
        "        new_state = state[:]\n",
        "        new_state[i], new_state[i + 3] = new_state[i + 3], new_state[i]\n",
        "        children.append((new_state, 'D'))\n",
        "\n",
        "    if i not in [0, 3, 6]:\n",
        "        new_state = state[:]\n",
        "        new_state[i], new_state[i - 1] = new_state[i - 1], new_state[i]\n",
        "        children.append((new_state, 'L'))\n",
        "\n",
        "    if i not in [2, 5, 8]:\n",
        "        new_state = state[:]\n",
        "        new_state[i], new_state[i + 1] = new_state[i + 1], new_state[i]\n",
        "        children.append((new_state, 'R'))\n",
        "\n",
        "    return children\n",
        "\n",
        "# Driver code\n",
        "initial_state = [1, 2, 3, 4, 0, 6, 7, 5, 8]\n",
        "goal_state = [1, 2, 3, 4, 5, 6, 7, 8, 0]\n",
        "path = bfs(initial_state, goal_state)\n",
        "\n",
        "if path is not None:\n",
        "    print(\"BFS solution path: \", path)\n",
        "else:\n",
        "    print(\"No solution found.\")\n"
      ],
      "metadata": {
        "id": "eXyPgEu5zLNT",
        "outputId": "95d67308-4e4d-423f-fd40-7408b7d2aa19",
        "colab": {
          "base_uri": "https://localhost:8080/"
        }
      },
      "execution_count": null,
      "outputs": [
        {
          "output_type": "stream",
          "name": "stdout",
          "text": [
            "BFS solution path:  ['D', 'R']\n"
          ]
        }
      ]
    },
    {
      "cell_type": "code",
      "source": [],
      "metadata": {
        "id": "Quo_2CnVzOjX"
      },
      "execution_count": null,
      "outputs": []
    }
  ]
}