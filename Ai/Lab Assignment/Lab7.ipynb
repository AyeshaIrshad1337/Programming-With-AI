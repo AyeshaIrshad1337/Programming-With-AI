{
 "cells": [
  {
   "cell_type": "code",
   "execution_count": 1,
   "id": "7aaa31c9",
   "metadata": {},
   "outputs": [],
   "source": []
  },
  {
   "cell_type": "code",
   "execution_count": 2,
   "id": "18fd9439",
   "metadata": {},
   "outputs": [],
   "source": []
  },
  {
   "cell_type": "code",
   "execution_count": 3,
   "id": "37f47106",
   "metadata": {},
   "outputs": [],
   "source": []
  },
  {
   "cell_type": "code",
   "execution_count": 4,
   "id": "3d5173c3",
   "metadata": {},
   "outputs": [],
   "source": []
  },
  {
   "cell_type": "code",
   "execution_count": null,
   "id": "b4903b75",
   "metadata": {},
   "outputs": [],
   "source": []
  },
  {
   "cell_type": "code",
   "execution_count": 13,
   "id": "9d95098d",
   "metadata": {},
   "outputs": [],
   "source": [
    "def mov_max(board,i):\n",
    "    if(check(board,i)==True):\n",
    "            board[i]=\"X\""
   ]
  },
  {
   "cell_type": "code",
   "execution_count": 7,
   "id": "21bb2d6a",
   "metadata": {},
   "outputs": [],
   "source": []
  },
  {
   "cell_type": "code",
   "execution_count": null,
   "id": "0395b96c",
   "metadata": {},
   "outputs": [],
   "source": []
  },
  {
   "cell_type": "code",
   "execution_count": null,
   "id": "640b2c33",
   "metadata": {},
   "outputs": [],
   "source": []
  },
  {
   "cell_type": "code",
   "execution_count": 16,
   "id": "0abf25ba",
   "metadata": {},
   "outputs": [
    {
     "name": "stdout",
     "output_type": "stream",
     "text": [
      "O - X \n",
      "X - - \n",
      "X O O \n",
      "\n",
      "O - X \n",
      "X X - \n",
      "X O O \n",
      "\n"
     ]
    }
   ],
   "source": [
    "import math\n",
    "\n",
    "def print_board(board):\n",
    "    # This function prints the current state of the board\n",
    "    for i in range(3):\n",
    "        for j in range(3):\n",
    "            print(board[3*i+j], end=\" \")\n",
    "        print()\n",
    "    print()\n",
    "\n",
    "def evaluate(board):\n",
    "    # This function evaluates the board and returns the score\n",
    "    for i in range(3):\n",
    "        # Check rows\n",
    "        if board[3*i] == board[3*i+1] == board[3*i+2]:\n",
    "            if board[3*i] == \"X\":\n",
    "                return 10\n",
    "            elif board[3*i] == \"O\":\n",
    "                return -10\n",
    "        # Check columns\n",
    "        if board[i] == board[i+3] == board[i+6]:\n",
    "            if board[i] == \"X\":\n",
    "                return 10\n",
    "            elif board[i] == \"O\":\n",
    "                return -10\n",
    "    # Check diagonals\n",
    "    if board[0] == board[4] == board[8]:\n",
    "        if board[0] == \"X\":\n",
    "            return 10\n",
    "        elif board[0] == \"O\":\n",
    "            return -10\n",
    "    if board[2] == board[4] == board[6]:\n",
    "        if board[2] == \"X\":\n",
    "            return 10\n",
    "        elif board[2] == \"O\":\n",
    "            return -10\n",
    "    # If there is no winner, return 0\n",
    "    return 0\n",
    "\n",
    "def game_search(board, depth, is_maximizing):\n",
    "    # This function implements the game search algorithm and returns the score\n",
    "    # and the best move for the given board\n",
    "    score = evaluate(board)\n",
    "    # If the game is over or the maximum depth is reached, return the score\n",
    "    if score != 0 or depth == 0:\n",
    "        return score, -1\n",
    "    if is_maximizing:\n",
    "        best_score = -math.inf\n",
    "        best_move = -1\n",
    "        for i in range(9):\n",
    "            if board[i] == \"-\":\n",
    "                board[i] = \"X\"\n",
    "                score, _ = game_search(board, depth-1, False)\n",
    "                board[i] = \"-\"\n",
    "                if score > best_score:\n",
    "                    best_score = score\n",
    "                    best_move = i\n",
    "        return best_score, best_move\n",
    "    else:\n",
    "        best_score = math.inf\n",
    "        best_move = -1\n",
    "        for i in range(9):\n",
    "            if board[i] == \"-\":\n",
    "                board[i] = \"O\"\n",
    "                score, _ = game_search(board, depth-1, True)\n",
    "                board[i] = \"-\"\n",
    "                if score < best_score:\n",
    "                    best_score = score\n",
    "                    best_move = i\n",
    "        return best_score, best_move\n",
    "\n",
    "# Driver code\n",
    "initial_state = [\"O\",\"-\",\"X\",\"X\",\"-\",\"-\",\"X\",\"O\",\"O\"]\n",
    "print_board(initial_state)\n",
    "score, best_move = game_search(initial_state, 4, True)\n",
    "mov_max(initial_state,best_move)\n",
    "print_board(initial_state)\n"
   ]
  },
  {
   "cell_type": "code",
   "execution_count": null,
   "id": "95f478c1",
   "metadata": {},
   "outputs": [],
   "source": []
  }
 ],
 "metadata": {
  "kernelspec": {
   "display_name": "Python 3 (ipykernel)",
   "language": "python",
   "name": "python3"
  },
  "language_info": {
   "codemirror_mode": {
    "name": "ipython",
    "version": 3
   },
   "file_extension": ".py",
   "mimetype": "text/x-python",
   "name": "python",
   "nbconvert_exporter": "python",
   "pygments_lexer": "ipython3",
   "version": "3.9.13"
  }
 },
 "nbformat": 4,
 "nbformat_minor": 5
}
